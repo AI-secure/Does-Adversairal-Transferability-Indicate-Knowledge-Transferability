{
 "cells": [
  {
   "cell_type": "code",
   "execution_count": 3,
   "metadata": {},
   "outputs": [],
   "source": [
    "import string\n",
    "\n",
    "def read_data(filepath, data_size, target_model='infersent', lowercase=False, ignore_punctuation=False, stopwords=[]):\n",
    "    \"\"\"\n",
    "    Read the premises, hypotheses and labels from some NLI dataset's\n",
    "    file and return them in a dictionary. The file should be in the same\n",
    "    form as SNLI's .txt files.\n",
    "\n",
    "    Args:\n",
    "        filepath: The path to a file containing some premises, hypotheses\n",
    "            and labels that must be read. The file should be formatted in\n",
    "            the same way as the SNLI (and MultiNLI) dataset.\n",
    "\n",
    "    Returns:\n",
    "        A dictionary containing three lists, one for the premises, one for\n",
    "        the hypotheses, and one for the labels in the input data.\n",
    "    \"\"\"\n",
    "    if target_model == 'bert':\n",
    "        labeldict = {\"contradiction\": 0,\n",
    "                      \"entailment\": 1,\n",
    "                      \"neutral\": 2}\n",
    "    else:\n",
    "        labeldict = {\"entailment\": 0,\n",
    "                     \"neutral\": 1,\n",
    "                     \"contradiction\": 2}\n",
    "    with open(filepath, 'r', encoding='utf8') as input_data:\n",
    "        premises, hypotheses, labels = [], [], []\n",
    "\n",
    "        # Translation tables to remove punctuation from strings.\n",
    "        punct_table = str.maketrans({key: ' '\n",
    "                                     for key in string.punctuation})\n",
    "\n",
    "        for idx, line in enumerate(input_data):\n",
    "            if idx >= data_size:\n",
    "                break\n",
    "\n",
    "            line = line.strip().split('\\t')\n",
    "\n",
    "            # Ignore sentences that have no gold label.\n",
    "            if line[0] == '-':\n",
    "                continue\n",
    "\n",
    "            premise = line[1]\n",
    "            hypothesis = line[2]\n",
    "\n",
    "            if lowercase:\n",
    "                premise = premise.lower()\n",
    "                hypothesis = hypothesis.lower()\n",
    "\n",
    "            if ignore_punctuation:\n",
    "                premise = premise.translate(punct_table)\n",
    "                hypothesis = hypothesis.translate(punct_table)\n",
    "\n",
    "            # Each premise and hypothesis is split into a list of words.\n",
    "            premises.append([w for w in premise.rstrip().split()\n",
    "                             if w not in stopwords])\n",
    "            hypotheses.append([w for w in hypothesis.rstrip().split()\n",
    "                               if w not in stopwords])\n",
    "            labels.append(labeldict[line[0]])\n",
    "\n",
    "        return {\"premises\": premises,\n",
    "                \"hypotheses\": hypotheses,\n",
    "                \"labels\": labels}\n",
    "\n"
   ]
  },
  {
   "cell_type": "code",
   "execution_count": 4,
   "metadata": {},
   "outputs": [],
   "source": [
    "data = read_data('snli', data_size=1000, target_model='bert')"
   ]
  },
  {
   "cell_type": "code",
   "execution_count": 5,
   "metadata": {},
   "outputs": [
    {
     "data": {
      "text/plain": [
       "['A',\n",
       " 'person',\n",
       " 'in',\n",
       " 'a',\n",
       " 'black',\n",
       " 'and',\n",
       " 'green',\n",
       " 'outfit',\n",
       " 'is',\n",
       " 'riding',\n",
       " 'a',\n",
       " 'bicycle',\n",
       " '.']"
      ]
     },
     "execution_count": 5,
     "metadata": {},
     "output_type": "execute_result"
    }
   ],
   "source": [
    "data['premises'][0]"
   ]
  },
  {
   "cell_type": "code",
   "execution_count": 6,
   "metadata": {},
   "outputs": [
    {
     "name": "stdout",
     "output_type": "stream",
     "text": [
      "!\n",
      "\"\n",
      "#\n",
      "$\n",
      "%\n",
      "&\n",
      "'\n",
      "(\n",
      ")\n",
      "*\n",
      "+\n",
      ",\n",
      "-\n",
      ".\n",
      "/\n",
      ":\n",
      ";\n",
      "<\n",
      "=\n",
      ">\n",
      "?\n",
      "@\n",
      "[\n",
      "\\\n",
      "]\n",
      "^\n",
      "_\n",
      "`\n",
      "{\n",
      "|\n",
      "}\n",
      "~\n"
     ]
    }
   ],
   "source": [
    "def read_adv(filename):\n",
    "    with open(filename) as f:\n",
    "        lines = f.readlines()\n",
    "        \n",
    "        for i in range(1000):\n",
    "            for "
   ]
  },
  {
   "cell_type": "code",
   "execution_count": null,
   "metadata": {},
   "outputs": [],
   "source": []
  }
 ],
 "metadata": {
  "kernelspec": {
   "display_name": "Python 3",
   "language": "python",
   "name": "python3"
  },
  "language_info": {
   "codemirror_mode": {
    "name": "ipython",
    "version": 3
   },
   "file_extension": ".py",
   "mimetype": "text/x-python",
   "name": "python",
   "nbconvert_exporter": "python",
   "pygments_lexer": "ipython3",
   "version": "3.7.6"
  }
 },
 "nbformat": 4,
 "nbformat_minor": 4
}
